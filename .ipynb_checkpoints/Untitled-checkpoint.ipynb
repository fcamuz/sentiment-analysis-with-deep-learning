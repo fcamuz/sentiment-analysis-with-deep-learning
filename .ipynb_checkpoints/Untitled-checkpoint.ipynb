{
 "cells": [
  {
   "cell_type": "code",
   "execution_count": 11,
   "metadata": {},
   "outputs": [
    {
     "name": "stdout",
     "output_type": "stream",
     "text": [
      "2 2\n",
      "2 2\n",
      "4 4\n",
      "4 4\n",
      "4 4\n",
      "4 4\n",
      "3 3\n",
      "3 3\n",
      "2 2\n",
      "2 2\n"
     ]
    }
   ],
   "source": [
    "list1=[1,2,4,4,3,2,3]\n",
    "\n",
    "def dupl (ls):\n",
    "    for i in range(len(ls)-1):\n",
    "        for k in range(len(ls)-1):   \n",
    "            if ls[i]==ls[k+1]:\n",
    "                #  print (ls[i])\n",
    "                \n",
    "                print(ls[i], ls[k+1])\n",
    "dupl(list1)\n",
    "            \n",
    "    "
   ]
  },
  {
   "cell_type": "code",
   "execution_count": null,
   "metadata": {},
   "outputs": [],
   "source": [
    "Diagonal Difference\n"
   ]
  },
  {
   "cell_type": "code",
   "execution_count": 27,
   "metadata": {},
   "outputs": [],
   "source": [
    "import numpy as np\n",
    "x=np.array([[0,  1,  2, 5],\n",
    "       [5,  6,  7,  8],\n",
    "       [10, 11, 12, 13],\n",
    "           [10, 1, 2, 3]])"
   ]
  },
  {
   "cell_type": "code",
   "execution_count": 31,
   "metadata": {},
   "outputs": [
    {
     "data": {
      "text/plain": [
       "array([[ 0,  1,  2,  5],\n",
       "       [ 5,  6,  7,  8],\n",
       "       [10, 11, 12, 13],\n",
       "       [10,  1,  2,  3]])"
      ]
     },
     "execution_count": 31,
     "metadata": {},
     "output_type": "execute_result"
    }
   ],
   "source": [
    "x"
   ]
  },
  {
   "cell_type": "code",
   "execution_count": 32,
   "metadata": {},
   "outputs": [
    {
     "data": {
      "text/plain": [
       "6"
      ]
     },
     "execution_count": 32,
     "metadata": {},
     "output_type": "execute_result"
    }
   ],
   "source": [
    "x[1][1]"
   ]
  },
  {
   "cell_type": "code",
   "execution_count": 33,
   "metadata": {},
   "outputs": [
    {
     "data": {
      "text/plain": [
       "3"
      ]
     },
     "execution_count": 33,
     "metadata": {},
     "output_type": "execute_result"
    }
   ],
   "source": [
    "x[3][-1]"
   ]
  },
  {
   "cell_type": "code",
   "execution_count": 34,
   "metadata": {},
   "outputs": [
    {
     "name": "stdout",
     "output_type": "stream",
     "text": [
      "0\n",
      "6\n",
      "12\n",
      "3\n"
     ]
    }
   ],
   "source": [
    "for i in range(len(x)):\n",
    "    print(x[i][i])"
   ]
  },
  {
   "cell_type": "code",
   "execution_count": 37,
   "metadata": {},
   "outputs": [
    {
     "name": "stdout",
     "output_type": "stream",
     "text": [
      "10\n",
      "11\n",
      "7\n",
      "5\n"
     ]
    }
   ],
   "source": [
    "for i in range(len(x)):\n",
    "    print(x[-(1+i)][i])"
   ]
  },
  {
   "cell_type": "code",
   "execution_count": 40,
   "metadata": {},
   "outputs": [
    {
     "data": {
      "text/plain": [
       "12"
      ]
     },
     "execution_count": 40,
     "metadata": {},
     "output_type": "execute_result"
    }
   ],
   "source": [
    "def absdif(arr):\n",
    "    x1=0\n",
    "    x2=0\n",
    "    for i in range (len(arr)):\n",
    "        x1=x1+arr[i][i]\n",
    "        x2=x2+arr[-(i+1)][i]\n",
    "    return abs(x1-x2)\n",
    "\n",
    "absdif(x)\n"
   ]
  },
  {
   "cell_type": "markdown",
   "metadata": {},
   "source": [
    "Given an array of integers, calculate the fractions of its elements that are positive, negative, and are zeros. Print the decimal value of each fraction on a new line.\n",
    "\n",
    "Note: This challenge introduces precision problems. The test cases are scaled to six decimal places, though answers with absolute error of up to  are acceptable.\n",
    "\n",
    "For example, given the array  there are  elements, two positive, two negative and one zero. Their ratios would be ,  and . It should be printed as"
   ]
  },
  {
   "cell_type": "code",
   "execution_count": null,
   "metadata": {},
   "outputs": [],
   "source": [
    "def plusMinus(arr):\n",
    "    n=len(arr)\n",
    "    pos=0\n",
    "    neg=0\n",
    "    zeros=0\n",
    "    for i in arr:\n",
    "        if i>0:\n",
    "            pos+=1\n",
    "        else:\n",
    "            if i<0 :\n",
    "                neg+=1                    \n",
    "            else:\n",
    "               zeros+=1\n",
    "    print(round(pos/n, 6))\n",
    "    print(round(neg/n,6))\n",
    "    print(round(zeros/n,6))\n",
    "    return \n",
    "\n",
    "\n",
    "          "
   ]
  },
  {
   "cell_type": "code",
   "execution_count": null,
   "metadata": {},
   "outputs": [],
   "source": []
  },
  {
   "cell_type": "code",
   "execution_count": null,
   "metadata": {},
   "outputs": [],
   "source": []
  }
 ],
 "metadata": {
  "kernelspec": {
   "display_name": "Python 3",
   "language": "python",
   "name": "python3"
  },
  "language_info": {
   "codemirror_mode": {
    "name": "ipython",
    "version": 3
   },
   "file_extension": ".py",
   "mimetype": "text/x-python",
   "name": "python",
   "nbconvert_exporter": "python",
   "pygments_lexer": "ipython3",
   "version": "3.7.3"
  }
 },
 "nbformat": 4,
 "nbformat_minor": 2
}
