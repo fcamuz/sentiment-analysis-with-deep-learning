{
 "cells": [
  {
   "cell_type": "markdown",
   "metadata": {},
   "source": [
    "# Sentiment Analysis with Deep Learning\n",
    "\n",
    "# Phase 1- Pre-Prosessing-EDA\n",
    "\n",
    "This notebook consists the functions and code for loading, pre=processing and EDA for this project.  \n",
    "\n",
    "### CHRISP-DM phases\n",
    "\n",
    "Data Understanding and Data Preperation phases for CRISP-DM can be found in this noteboook.\n",
    "\n",
    "#### 2.Data Understanding\n",
    "Starts with an initial data collection and proceeds with activities in order to get familiar with the data, to identify data quality problems, to discover first insights into the data. \n",
    "\n",
    "#### 3.Data Preparation\n",
    "The data preparation phase covers all activities to construct the final dataset from the initial raw data.\n",
    "\n",
    "### Table of Contents\n",
    "\n",
    "- 1.Import Libraries\n",
    "- 2.Define Functions \n",
    "- 3.Load-Read-Extract\n",
    "- 4.Pre-Processig\n",
    "- 5.Tokenizing-Sequenzing-Padding\n",
    "- 6.Exploratory Data Analysis (EDA)\n"
   ]
  },
  {
   "cell_type": "markdown",
   "metadata": {},
   "source": [
    "## 1. Import Libraries"
   ]
  },
  {
   "cell_type": "code",
   "execution_count": null,
   "metadata": {},
   "outputs": [],
   "source": [
    "import seaborn as sns\n",
    "import matplotlib.pyplot as plt\n",
    "import pandas as pd \n",
    "import bz2\n",
    "import re\n",
    "import numpy as np\n",
    "import string\n",
    "import nltk\n",
    "from nltk.corpus import stopwords\n",
    "stop = stopwords.words('english')\n",
    "\n",
    "from sklearn.preprocessing import LabelEncoder\n",
    "np.random.seed(0)\n",
    "from keras.preprocessing.text import Tokenizer\n",
    "from keras.preprocessing.sequence import pad_sequences\n",
    "from keras.preprocessing import text, sequence\n",
    "import pickle\n",
    "from nltk.stem import WordNetLemmatizer\n",
    "from PIL import Image\n",
    "#from wordcloud import WordCloud, STOPWORDS, ImageColorGenerator\n",
    "\n",
    "import matplotlib.pyplot as plt\n",
    "%matplotlib inline\n",
    "import nltk\n",
    "#nltk.download('wordnet')\n",
    "\n",
    "#nltk.download('stopwords')"
   ]
  },
  {
   "cell_type": "markdown",
   "metadata": {},
   "source": []
  },
  {
   "cell_type": "code",
   "execution_count": null,
   "metadata": {},
   "outputs": [],
   "source": [
    "nltk.download('punkt')"
   ]
  },
  {
   "cell_type": "markdown",
   "metadata": {},
   "source": [
    "## 2. Functions \n",
    "\n",
    "In this part all functions are defined for loading, pre-processing-EDA"
   ]
  },
  {
   "cell_type": "code",
   "execution_count": 83,
   "metadata": {},
   "outputs": [],
   "source": [
    "def read_txt_file (file):\n",
    "    \"\"\"Reads txt file into lines, \n",
    "    extracts labels from each line using regex pattern\n",
    "    returns data frame with two column as comment and label\"\"\"\n",
    "    df=pd.DataFrame()\n",
    "    #create pattern for extracting labels from the comment lines\n",
    "    pattern = \"__label__(\\d+)\"\n",
    "    p = re.compile(pattern)\n",
    "    labels=[int(p.findall(comment)[0]) for comment in file ]\n",
    "    com=[comment.split(\" \",1)[1] for comment in file]\n",
    "    df['comment']=com\n",
    "    df['label']=labels\n",
    "    return df\n",
    "## Preprocessing the comment text\n",
    "\n",
    "def punctuationRemover(p):\n",
    "    '''\n",
    "    Input: Takes a string. You may have to use str() to force it. \n",
    "    Removes all punctuation by checking every single character.\n",
    "    Output: Returns a string.\n",
    "    '''\n",
    "    punctuations = '''!()-[]{};:'\"\\,<>./?@#$%^&*_~1234567890''' \n",
    "    no_punctuations = ''\n",
    "\n",
    "    for words in p: # You may not have to loop this high\n",
    "        for char in words:\n",
    "            if char in punctuations:\n",
    "                no_punctuations = no_punctuations + ' '\n",
    "            if char not in punctuations:\n",
    "                no_punctuations = no_punctuations + char    \n",
    "    return(no_punctuations)\n",
    "\n",
    "def removeStopWords(str):\n",
    "    \"\"\"it takes a string and removes the stopwords from it. \n",
    "    Stopwords are available in the \"stop\" list\"\"\"\n",
    "    #select english stopwords\n",
    "    stop = set(stopwords.words(\"english\"))\n",
    "    #add custom words\n",
    "    stop.update(('arnt','this','when','cant','these', 'would', 'one', 'get','like', 'time', 'book'))\n",
    "    #remove stop words\n",
    "    new_str = ' '.join([word.lower() for word in str if word.lower() not in stop]) \n",
    "    return new_str\n",
    "\n",
    "def lemmatize_verbs(words):\n",
    "    \"\"\"Lemmatize verbs in list of tokenized words\"\"\"\n",
    "    lemmatizer = WordNetLemmatizer()\n",
    "    lemmas = []\n",
    "    for word in words:\n",
    "        lemma = lemmatizer.lemmatize(word, pos='v')\n",
    "        lemmas.append(lemma)\n",
    "    return lemmas\n",
    "\n",
    "def wordfreq(comments):\n",
    "    \"\"\"takes a list of comments and returns word frequency dictionary \"\"\"\n",
    "    wordfreq={}\n",
    "    for i in comments:\n",
    "        #tokens = nltk.word_tokenize(i)\n",
    "        tokens=i\n",
    "        for token in tokens:\n",
    "            if token not in wordfreq.keys():\n",
    "                wordfreq[token] = 1\n",
    "            else:\n",
    "                wordfreq[token] += 1  \n",
    "    return wordfreq\n",
    "\n",
    "def sorted_wordfreq (dictionary):\n",
    "    \"\"\"Takes the word freq dictionary and converts in to a dataframe\n",
    "    then sorts by values in ascending order. Returns ordered dataframe\"\"\"\n",
    "    df=pd.DataFrame(columns=['key', 'values'])\n",
    "    df.key=dictionary.keys()\n",
    "    df.values = list(dictionary.values())\n",
    "    df=df.sort_values(by=['values'], ascending=False)\n",
    "    df=df.reset_index(drop=True)\n",
    "    return  df\n",
    "\n",
    "def mostcommon (dic, n):\n",
    "    \"\"\"Takes the dictionary and the number for the top most frequent words. \n",
    "    Returns the n most frequest words list\"\"\"\n",
    "    df=sorted_wordfreq (dic)\n",
    "    return list(df.iloc[:n])"
   ]
  },
  {
   "cell_type": "code",
   "execution_count": null,
   "metadata": {},
   "outputs": [],
   "source": []
  },
  {
   "cell_type": "code",
   "execution_count": null,
   "metadata": {},
   "outputs": [],
   "source": [
    "\n",
    "def label_split (train, test):\n",
    "    \"\"\"Takes train and test data\n",
    "    returns (X_train, X_test, y_train, y_test\"\"\"\n",
    "    X_train=train.comment\n",
    "    X_test=test.comment\n",
    "    y_train=train.label\n",
    "    y_test=test.label\n",
    "    return (X_train, X_test, y_train, y_test)\n",
    "\n",
    "\n",
    "def save_tokens (train, test):\n",
    "    \"save preprocessed datasets contains all tokens\"\n",
    "    pickle_out = open(\"data/tokens/train_file.pickle\",\"wb\")\n",
    "    pickle.dump(train, pickle_out)\n",
    "    pickle_out.close()\n",
    "\n",
    "    pickle_out = open(\"data/tokens/test_file.pickle\",\"wb\")\n",
    "    pickle.dump(test, pickle_out)\n",
    "    pickle_out.close()\n",
    "\n",
    "def load_tokens():\n",
    "    \"load token sets using pickle\"\n",
    "    pickle_in = open(\"data/tokens/train_file.pickle\",\"rb\")\n",
    "    train = pickle.load(pickle_in)\n",
    "\n",
    "    pickle_in = open(\"data/tokens/test_file.pickle\",\"rb\")\n",
    "    test = pickle.load(pickle_in)\n",
    "    return (train, test)\n",
    "\n",
    "\n",
    "def save_tokenizer ():\n",
    "    \"\"\"use pickle to save tokenizer\"\"\"\n",
    "    with open('tokenizer.pickle', 'wb') as handle:\n",
    "        pickle.dump(tokenizer, handle, protocol=pickle.HIGHEST_PROTOCOL)\n",
    "\n",
    "def load_tokenizer():\n",
    "    \"\"\"loads the tokenizer\"\"\"\n",
    "    with open('tokenizer.pickle', 'rb') as handle:\n",
    "        tokenizer=pickle.load(handle)\n",
    "    return tokenizer"
   ]
  },
  {
   "cell_type": "markdown",
   "metadata": {},
   "source": [
    "## 3. Load-Read-Extract"
   ]
  },
  {
   "cell_type": "code",
   "execution_count": null,
   "metadata": {
    "scrolled": true
   },
   "outputs": [],
   "source": [
    "#Loading text files\n",
    "train_file = bz2.BZ2File('amazonreviews/train.ft.txt.bz2')\n",
    "test_file = bz2.BZ2File('amazonreviews/test.ft.txt.bz2')"
   ]
  },
  {
   "cell_type": "code",
   "execution_count": null,
   "metadata": {},
   "outputs": [],
   "source": [
    "#reading files line by line, turn them in to lists of reviews\n",
    "train_file_lines = train_file.readlines()\n",
    "test_file_lines = test_file.readlines()\n",
    "\n",
    "train_file_lines = [x.decode('utf-8') for x in train_file_lines]\n",
    "test_file_lines = [x.decode('utf-8') for x in test_file_lines]"
   ]
  },
  {
   "cell_type": "code",
   "execution_count": null,
   "metadata": {},
   "outputs": [],
   "source": [
    "#extract comments and labels by using reg-ex patter in read_text_file function\n",
    "test_raw=read_txt_file(test_file_lines)\n",
    "train_raw=read_txt_file(train_file_lines)"
   ]
  },
  {
   "cell_type": "code",
   "execution_count": null,
   "metadata": {},
   "outputs": [],
   "source": [
    "test_raw"
   ]
  },
  {
   "cell_type": "code",
   "execution_count": null,
   "metadata": {},
   "outputs": [],
   "source": []
  },
  {
   "cell_type": "markdown",
   "metadata": {},
   "source": [
    "## 4. Pre-Processing"
   ]
  },
  {
   "cell_type": "code",
   "execution_count": null,
   "metadata": {},
   "outputs": [],
   "source": [
    "test_raw.shape"
   ]
  },
  {
   "cell_type": "code",
   "execution_count": null,
   "metadata": {},
   "outputs": [],
   "source": [
    "train_raw.shape"
   ]
  },
  {
   "cell_type": "code",
   "execution_count": null,
   "metadata": {},
   "outputs": [],
   "source": [
    "train_raw.isna().sum()"
   ]
  },
  {
   "cell_type": "code",
   "execution_count": null,
   "metadata": {},
   "outputs": [],
   "source": [
    "test_raw.isna().sum()"
   ]
  },
  {
   "cell_type": "code",
   "execution_count": null,
   "metadata": {},
   "outputs": [],
   "source": []
  },
  {
   "cell_type": "code",
   "execution_count": null,
   "metadata": {},
   "outputs": [],
   "source": [
    "\"\"\"#tr=test_raw.sample(3)\n",
    "tr['label']=encoder.fit_transform (tr.label)\n",
    "tr['comment']=[punctuationRemover(p) for p in tr.comment]\n",
    "tr['comment']=[nltk.word_tokenize(words) for words in tr.comment]\n",
    "tr['comment']=[removeStopWords(p) for p in tr.comment]\n",
    "tr['comment']=[lemmatize_verbs(p.split()) for p in list(tr.comment)]\n",
    "\"\"\""
   ]
  },
  {
   "cell_type": "code",
   "execution_count": null,
   "metadata": {},
   "outputs": [],
   "source": [
    "train=pd.DataFrame()\n",
    "test=pd.DataFrame()\n",
    "\n",
    "# convert labels in to 0,1 with encoder\n",
    "encoder=LabelEncoder()\n",
    "train['label']=encoder.fit_transform(train_raw.label)\n",
    "test['label']=encoder.fit_transform (test_raw.label)\n"
   ]
  },
  {
   "cell_type": "code",
   "execution_count": null,
   "metadata": {},
   "outputs": [],
   "source": [
    "#remove punctuations and number from comments\n",
    "train['comment']=[punctuationRemover(p) for p in train_raw.comment]\n",
    "test['comment']=[punctuationRemover(p) for p in test_raw.comment]"
   ]
  },
  {
   "cell_type": "code",
   "execution_count": null,
   "metadata": {},
   "outputs": [],
   "source": [
    "#tokenize the sentences\n",
    "train['comment']=[nltk.word_tokenize(words) for words in train.comment]\n",
    "test['comment']=[nltk.word_tokenize(words) for words in test.comment]"
   ]
  },
  {
   "cell_type": "code",
   "execution_count": null,
   "metadata": {},
   "outputs": [],
   "source": [
    "#remove stop words from comments\n",
    "train.comment=[removeStopWords(p) for p in train.comment]\n",
    "test['comment']=[removeStopWords(p) for p in test.comment]"
   ]
  },
  {
   "cell_type": "code",
   "execution_count": null,
   "metadata": {},
   "outputs": [],
   "source": [
    "#Lemmatize the words\n",
    "train['comment']=[lemmatize_verbs(p.split()) for p in list(train.comment)]\n",
    "test['comment']=[lemmatize_verbs(p.split()) for p in list(test.comment)]"
   ]
  },
  {
   "cell_type": "code",
   "execution_count": null,
   "metadata": {},
   "outputs": [],
   "source": [
    "#save train lemmas dataframe\n",
    "pickle_out = open(\"data/train.pickle\",\"wb\")\n",
    "pickle.dump(train, pickle_out)\n",
    "pickle_out.close()\n",
    "\n",
    "#save test lemmas dataframe\n",
    "pickle_out = open(\"data/test.pickle\",\"wb\")\n",
    "pickle.dump(test, pickle_out)\n",
    "pickle_out.close()"
   ]
  },
  {
   "cell_type": "code",
   "execution_count": 62,
   "metadata": {},
   "outputs": [
    {
     "data": {
      "text/html": [
       "<div>\n",
       "<style scoped>\n",
       "    .dataframe tbody tr th:only-of-type {\n",
       "        vertical-align: middle;\n",
       "    }\n",
       "\n",
       "    .dataframe tbody tr th {\n",
       "        vertical-align: top;\n",
       "    }\n",
       "\n",
       "    .dataframe thead th {\n",
       "        text-align: right;\n",
       "    }\n",
       "</style>\n",
       "<table border=\"1\" class=\"dataframe\">\n",
       "  <thead>\n",
       "    <tr style=\"text-align: right;\">\n",
       "      <th></th>\n",
       "      <th>label</th>\n",
       "      <th>comment</th>\n",
       "    </tr>\n",
       "  </thead>\n",
       "  <tbody>\n",
       "    <tr>\n",
       "      <th>0</th>\n",
       "      <td>1</td>\n",
       "      <td>[stun, even, non, gamer, sound, track, beautif...</td>\n",
       "    </tr>\n",
       "    <tr>\n",
       "      <th>1</th>\n",
       "      <td>1</td>\n",
       "      <td>[best, soundtrack, ever, anything, read, lot, ...</td>\n",
       "    </tr>\n",
       "    <tr>\n",
       "      <th>2</th>\n",
       "      <td>1</td>\n",
       "      <td>[amaze, soundtrack, favorite, music, hand, int...</td>\n",
       "    </tr>\n",
       "  </tbody>\n",
       "</table>\n",
       "</div>"
      ],
      "text/plain": [
       "   label                                            comment\n",
       "0      1  [stun, even, non, gamer, sound, track, beautif...\n",
       "1      1  [best, soundtrack, ever, anything, read, lot, ...\n",
       "2      1  [amaze, soundtrack, favorite, music, hand, int..."
      ]
     },
     "execution_count": 62,
     "metadata": {},
     "output_type": "execute_result"
    }
   ],
   "source": [
    "train.head(3)"
   ]
  },
  {
   "cell_type": "markdown",
   "metadata": {},
   "source": [
    "## 5. Vectorizing-Sequenzing-Padding\n",
    "### Fit tokenizer to full trainset\n",
    "\n",
    "We need one tokenizer.Keras' Tokenizer() class allows to vectorize a text corpus, by turning each text into either a sequence of integers (each integer being the index of a token in a dictionary) or into a vector where the coefficient for each token could be binary, based on word count, based on tf-idf. By default, all punctuation is removed, turning the texts into space-separated sequences of words. Since we already did those above, it won't be too long. These sequences are then split into lists of tokens. They will then be or vectorized."
   ]
  },
  {
   "cell_type": "code",
   "execution_count": null,
   "metadata": {},
   "outputs": [],
   "source": [
    "#load preprocessed data\n",
    "#train_lem, test_lem=load_tokens()\n",
    "pickle_in = open(\"data/tokens/train.pickle\",\"rb\")\n",
    "train = pickle.load(pickle_in)\n",
    "\n",
    "pickle_in = open(\"data/tokens/test.pickle\",\"rb\")\n",
    "test = pickle.load(pickle_in)"
   ]
  },
  {
   "cell_type": "code",
   "execution_count": 64,
   "metadata": {
    "scrolled": true
   },
   "outputs": [],
   "source": [
    "# tokenizing the data\n",
    "tokenizer = Tokenizer(num_words=8192)\n",
    "# fit tokenizer to train data\n",
    "tokenizer.fit_on_texts(list(train.comment))"
   ]
  },
  {
   "cell_type": "code",
   "execution_count": 65,
   "metadata": {},
   "outputs": [],
   "source": [
    "save_tokenizer ()"
   ]
  },
  {
   "cell_type": "code",
   "execution_count": null,
   "metadata": {},
   "outputs": [],
   "source": [
    "#tokenizer=load_tokenizer()  "
   ]
  },
  {
   "cell_type": "code",
   "execution_count": null,
   "metadata": {},
   "outputs": [],
   "source": []
  },
  {
   "cell_type": "raw",
   "metadata": {},
   "source": []
  },
  {
   "cell_type": "markdown",
   "metadata": {},
   "source": [
    "\n",
    "### Squenzing and padding full dataset\n",
    "Before sequenzing, lets split the data into data and labels. Then do sequencing and padding. Sequenzing converts a text to a sequence of words (or tokens) and padding makes their size even. "
   ]
  },
  {
   "cell_type": "code",
   "execution_count": 66,
   "metadata": {},
   "outputs": [],
   "source": [
    "#split label and comment columns in the data\n",
    "X_train, X_test, y_train, y_test = label_split(train, test)"
   ]
  },
  {
   "cell_type": "code",
   "execution_count": 67,
   "metadata": {},
   "outputs": [
    {
     "name": "stdout",
     "output_type": "stream",
     "text": [
      "X_train shape: (3600000, 128)\n",
      "X_test shape:  (400000, 128)\n"
     ]
    }
   ],
   "source": [
    "# turning the tokenized text into sequences and padding the sequences\n",
    "#X_train, X_test = sequence_padding (X_train, X_test)\n",
    "\n",
    "\"\"\"Transforms each text in texts to a sequence of integers.\n",
    "    Only top num_words-1 most frequent words will be taken into account. \n",
    "    Only words known by the tokenizer will be taken into account.\"\"\"\n",
    "   \n",
    "# turning the tokenized text into sequences\n",
    "X_train = tokenizer.texts_to_sequences(X_train)\n",
    "X_test  = tokenizer.texts_to_sequences(X_test)\n",
    "\n",
    "\"\"\"Sequences that are shorter than num_timesteps are padded with value at the end.\n",
    "   Sequences longer than num_timesteps are truncated so that they fit the desired length. \n",
    "\"\"\"\n",
    "# padding the sequences\n",
    "X_train = sequence.pad_sequences(X_train, maxlen=128)\n",
    "X_test  = sequence.pad_sequences(X_test,  maxlen=128)\n",
    "\n",
    "print('X_train shape:', X_train.shape)\n",
    "print('X_test shape: ', X_test.shape)"
   ]
  },
  {
   "cell_type": "code",
   "execution_count": 68,
   "metadata": {},
   "outputs": [],
   "source": [
    "#Saving Tokenized data with Pickle\n",
    "#save_full_vectors (X_train, X_test, y_train, y_test)\n",
    "\"\"\"saves the full data set vectors\"\"\"\n",
    "pickle_out = open(\"data/vectors_full/X_train_file.pickle\",\"wb\")\n",
    "pickle.dump(X_train, pickle_out)\n",
    "pickle_out.close()\n",
    "\n",
    "pickle_out = open(\"data/vectors_full/X_test_file.pickle\",\"wb\")\n",
    "pickle.dump(X_test, pickle_out)\n",
    "pickle_out.close()\n",
    "\n",
    "pickle_out = open(\"data/vectors_full/y_train_file.pickle\",\"wb\")\n",
    "pickle.dump(y_train, pickle_out)\n",
    "pickle_out.close()\n",
    "\n",
    "pickle_out = open(\"data/vectors_full/y_test_file.pickle\",\"wb\")\n",
    "pickle.dump(y_test, pickle_out)\n",
    "pickle_out.close()   "
   ]
  },
  {
   "cell_type": "code",
   "execution_count": 69,
   "metadata": {},
   "outputs": [
    {
     "data": {
      "text/plain": [
       "array([[   0,    0,    0, ...,   20,   84,  315],\n",
       "       [   0,    0,    0, ...,  394,  266,   85],\n",
       "       [   0,    0,    0, ...,   29,  279,  285],\n",
       "       ...,\n",
       "       [   0,    0,    0, ...,  649,  189,   59],\n",
       "       [   0,    0,    0, ...,  344, 1662,    3],\n",
       "       [   0,    0,    0, ..., 5038,   17, 1156]])"
      ]
     },
     "execution_count": 69,
     "metadata": {},
     "output_type": "execute_result"
    }
   ],
   "source": [
    "X_test"
   ]
  },
  {
   "cell_type": "markdown",
   "metadata": {},
   "source": [
    "### Sequenzing and padding  partial dataset\n",
    "\n",
    "The full dataset has 4 millions of comments. It is too big for modeling. Since it willbe too many trial and error sessions, I will use small sample to figure the best model. After deciding the best one, I will pass the whole train and test data to the final model. "
   ]
  },
  {
   "cell_type": "code",
   "execution_count": 71,
   "metadata": {},
   "outputs": [],
   "source": [
    "import random\n",
    "train2=train.sample(n=150000, random_state=1)\n",
    "train2=train2.reset_index()\n",
    "test2=test.sample(n=30000, random_state=1)\n",
    "test2=test2.reset_index()"
   ]
  },
  {
   "cell_type": "code",
   "execution_count": 72,
   "metadata": {},
   "outputs": [],
   "source": [
    "#split label and comment columns in the data\n",
    "X_train2, X_test2, y_train2, y_test2 = label_split(train2, test2)"
   ]
  },
  {
   "cell_type": "code",
   "execution_count": 73,
   "metadata": {},
   "outputs": [
    {
     "data": {
      "text/plain": [
       "0         [excellent, home, help, parent, volume, dolch,...\n",
       "1         [stay, far, far, away, make, maybe, minutes, t...\n",
       "2         [lose, woods, lose, woodsi, really, understand...\n",
       "3         [renaissance, women, brown, suead, shoe, recom...\n",
       "4         [best, novel, read, year, intrigue, variety, c...\n",
       "                                ...                        \n",
       "149995    [eddie, murphy, greatest, comedy, performances...\n",
       "149996    [work, well, except, work, well, except, stupi...\n",
       "149997    [scratch, movie, buy, use, open, immediately, ...\n",
       "149998    [great, dvd, series, overshadow, greed, great,...\n",
       "149999    [super, supertramp, another, band, idea, many,...\n",
       "Name: comment, Length: 150000, dtype: object"
      ]
     },
     "execution_count": 73,
     "metadata": {},
     "output_type": "execute_result"
    }
   ],
   "source": [
    "X_train2"
   ]
  },
  {
   "cell_type": "code",
   "execution_count": 74,
   "metadata": {},
   "outputs": [
    {
     "name": "stdout",
     "output_type": "stream",
     "text": [
      "X_train shape: (150000, 128)\n",
      "X_test shape:  (30000, 128)\n"
     ]
    }
   ],
   "source": [
    "# turning the tokenized text into sequences and padding the sequences\n",
    "#X_train2, X_test2 = sequence_padding (X_train2, X_test2)\n",
    "\n",
    "\"\"\"Transforms each text in texts to a sequence of integers.\n",
    "    Only top num_words-1 most frequent words will be taken into account. \n",
    "    Only words known by the tokenizer will be taken into account.\"\"\"\n",
    "   \n",
    "# turning the tokenized text into sequences\n",
    "X_train2 = tokenizer.texts_to_sequences(X_train2)\n",
    "X_test2  = tokenizer.texts_to_sequences(X_test2)\n",
    "\n",
    "\"\"\"Sequences that are shorter than num_timesteps are padded with value at the end.\n",
    "   Sequences longer than num_timesteps are truncated so that they fit the desired length. \n",
    "\"\"\"\n",
    "# padding the sequences\n",
    "X_train2 = sequence.pad_sequences(X_train2, maxlen=128)\n",
    "X_test2  = sequence.pad_sequences(X_test2,  maxlen=128)\n",
    "\n",
    "print('X_train shape:', X_train2.shape)\n",
    "print('X_test shape: ', X_test2.shape)"
   ]
  },
  {
   "cell_type": "code",
   "execution_count": 75,
   "metadata": {},
   "outputs": [],
   "source": [
    "#Saving Tokenized data with Pickle\n",
    "#save_small_vectors(X_train2, X_test2, y_train2, y_test2)\n",
    "\"\"\"saves the small data set vectors\"\"\"\n",
    "pickle_out = open(\"data/vectors_small/X_train2_file.pickle\",\"wb\")\n",
    "pickle.dump(X_train2, pickle_out)\n",
    "pickle_out.close()\n",
    "\n",
    "pickle_out = open(\"data/vectors_small/X_test2_file.pickle\",\"wb\")\n",
    "pickle.dump(X_test2, pickle_out)\n",
    "pickle_out.close()\n",
    "\n",
    "pickle_out = open(\"data/vectors_small/y_train2_file.pickle\",\"wb\")\n",
    "pickle.dump(y_train2, pickle_out)\n",
    "pickle_out.close()\n",
    "\n",
    "pickle_out = open(\"data/vectors_small/y_test2_file.pickle\",\"wb\")\n",
    "pickle.dump(y_test2, pickle_out)\n",
    "pickle_out.close() "
   ]
  },
  {
   "cell_type": "markdown",
   "metadata": {},
   "source": [
    "## 6. Exploratory Data Analysis (EDA)"
   ]
  },
  {
   "cell_type": "markdown",
   "metadata": {},
   "source": [
    "### Label distribution\n",
    "Label distribution is important when it comes to the performence of a model. Unbalanced labels might be a negative effect. Lets check how is ours:"
   ]
  },
  {
   "cell_type": "code",
   "execution_count": 77,
   "metadata": {
    "scrolled": false
   },
   "outputs": [
    {
     "data": {
      "image/png": "[encoded data removed]",
      "text/plain": [
       "<Figure size 432x288 with 1 Axes>"
      ]
     },
     "metadata": {},
     "output_type": "display_data"
    }
   ],
   "source": [
    "sns.set(style=\"whitegrid\")\n",
    "ax = sns.countplot(x=\"label\", data=train)\n"
   ]
  },
  {
   "cell_type": "code",
   "execution_count": 78,
   "metadata": {},
   "outputs": [
    {
     "data": {
      "image/png": "[encoded data removed]",
      "text/plain": [
       "<Figure size 432x288 with 1 Axes>"
      ]
     },
     "metadata": {},
     "output_type": "display_data"
    }
   ],
   "source": [
    "ax = sns.countplot(x=\"label\", data=test)"
   ]
  },
  {
   "cell_type": "markdown",
   "metadata": {},
   "source": [
    "Labels are perfectly distributed. This is a great condition for model's performence"
   ]
  },
  {
   "cell_type": "markdown",
   "metadata": {},
   "source": [
    "## Word Frequency\n",
    "\n",
    "Lets explore how the word distribution on negative and positive comments. "
   ]
  },
  {
   "cell_type": "code",
   "execution_count": 80,
   "metadata": {},
   "outputs": [],
   "source": [
    "pos=train[train.label==1]\n",
    "neg=train[train.label==0]"
   ]
  },
  {
   "cell_type": "code",
   "execution_count": 84,
   "metadata": {},
   "outputs": [],
   "source": [
    "#create a frequency list and sort them , then return most frequest n words.\n",
    "wordfreq1=wordfreq(pos.comment)   "
   ]
  },
  {
   "cell_type": "code",
   "execution_count": 85,
   "metadata": {},
   "outputs": [
    {
     "data": {
      "text/plain": [
       "['key', 'values']"
      ]
     },
     "execution_count": 85,
     "metadata": {},
     "output_type": "execute_result"
    }
   ],
   "source": [
    "mostcommon(wordfreq1, 50)"
   ]
  },
  {
   "cell_type": "code",
   "execution_count": 86,
   "metadata": {},
   "outputs": [
    {
     "data": {
      "text/html": [
       "<div>\n",
       "<style scoped>\n",
       "    .dataframe tbody tr th:only-of-type {\n",
       "        vertical-align: middle;\n",
       "    }\n",
       "\n",
       "    .dataframe tbody tr th {\n",
       "        vertical-align: top;\n",
       "    }\n",
       "\n",
       "    .dataframe thead th {\n",
       "        text-align: right;\n",
       "    }\n",
       "</style>\n",
       "<table border=\"1\" class=\"dataframe\">\n",
       "  <thead>\n",
       "    <tr style=\"text-align: right;\">\n",
       "      <th></th>\n",
       "      <th>0</th>\n",
       "      <th>1</th>\n",
       "      <th>2</th>\n",
       "      <th>3</th>\n",
       "      <th>4</th>\n",
       "      <th>5</th>\n",
       "      <th>6</th>\n",
       "      <th>7</th>\n",
       "      <th>8</th>\n",
       "      <th>9</th>\n",
       "      <th>...</th>\n",
       "      <th>40</th>\n",
       "      <th>41</th>\n",
       "      <th>42</th>\n",
       "      <th>43</th>\n",
       "      <th>44</th>\n",
       "      <th>45</th>\n",
       "      <th>46</th>\n",
       "      <th>47</th>\n",
       "      <th>48</th>\n",
       "      <th>49</th>\n",
       "    </tr>\n",
       "  </thead>\n",
       "  <tbody>\n",
       "    <tr>\n",
       "      <th>key</th>\n",
       "      <td>great</td>\n",
       "      <td>good</td>\n",
       "      <td>read</td>\n",
       "      <td>love</td>\n",
       "      <td>make</td>\n",
       "      <td>use</td>\n",
       "      <td>buy</td>\n",
       "      <td>well</td>\n",
       "      <td>work</td>\n",
       "      <td>best</td>\n",
       "      <td>...</td>\n",
       "      <td>easy</td>\n",
       "      <td>way</td>\n",
       "      <td>enjoy</td>\n",
       "      <td>excellent</td>\n",
       "      <td>product</td>\n",
       "      <td>play</td>\n",
       "      <td>years</td>\n",
       "      <td>life</td>\n",
       "      <td>game</td>\n",
       "      <td>ever</td>\n",
       "    </tr>\n",
       "    <tr>\n",
       "      <th>values</th>\n",
       "      <td>833541</td>\n",
       "      <td>602427</td>\n",
       "      <td>547259</td>\n",
       "      <td>517758</td>\n",
       "      <td>407087</td>\n",
       "      <td>402005</td>\n",
       "      <td>351445</td>\n",
       "      <td>350079</td>\n",
       "      <td>344184</td>\n",
       "      <td>321603</td>\n",
       "      <td>...</td>\n",
       "      <td>166562</td>\n",
       "      <td>165591</td>\n",
       "      <td>164100</td>\n",
       "      <td>163357</td>\n",
       "      <td>160897</td>\n",
       "      <td>159993</td>\n",
       "      <td>157200</td>\n",
       "      <td>156776</td>\n",
       "      <td>149660</td>\n",
       "      <td>146834</td>\n",
       "    </tr>\n",
       "  </tbody>\n",
       "</table>\n",
       "<p>2 rows × 50 columns</p>\n",
       "</div>"
      ],
      "text/plain": [
       "            0       1       2       3       4       5       6       7   \\\n",
       "key      great    good    read    love    make     use     buy    well   \n",
       "values  833541  602427  547259  517758  407087  402005  351445  350079   \n",
       "\n",
       "            8       9   ...      40      41      42         43       44  \\\n",
       "key       work    best  ...    easy     way   enjoy  excellent  product   \n",
       "values  344184  321603  ...  166562  165591  164100     163357   160897   \n",
       "\n",
       "            45      46      47      48      49  \n",
       "key       play   years    life    game    ever  \n",
       "values  159993  157200  156776  149660  146834  \n",
       "\n",
       "[2 rows x 50 columns]"
      ]
     },
     "execution_count": 86,
     "metadata": {},
     "output_type": "execute_result"
    }
   ],
   "source": [
    "sorted_wordfreq(wordfreq1).iloc[:50].T"
   ]
  },
  {
   "cell_type": "code",
   "execution_count": 88,
   "metadata": {},
   "outputs": [
    {
     "data": {
      "text/plain": [
       "['key', 'values']"
      ]
     },
     "execution_count": 88,
     "metadata": {},
     "output_type": "execute_result"
    }
   ],
   "source": [
    "wordfreq2=wordfreq(neg.comment)   \n",
    "mostcommon(wordfreq2, 50)"
   ]
  },
  {
   "cell_type": "code",
   "execution_count": 89,
   "metadata": {},
   "outputs": [
    {
     "data": {
      "text/html": [
       "<div>\n",
       "<style scoped>\n",
       "    .dataframe tbody tr th:only-of-type {\n",
       "        vertical-align: middle;\n",
       "    }\n",
       "\n",
       "    .dataframe tbody tr th {\n",
       "        vertical-align: top;\n",
       "    }\n",
       "\n",
       "    .dataframe thead th {\n",
       "        text-align: right;\n",
       "    }\n",
       "</style>\n",
       "<table border=\"1\" class=\"dataframe\">\n",
       "  <thead>\n",
       "    <tr style=\"text-align: right;\">\n",
       "      <th></th>\n",
       "      <th>0</th>\n",
       "      <th>1</th>\n",
       "      <th>2</th>\n",
       "      <th>3</th>\n",
       "      <th>4</th>\n",
       "      <th>5</th>\n",
       "      <th>6</th>\n",
       "      <th>7</th>\n",
       "      <th>8</th>\n",
       "      <th>9</th>\n",
       "      <th>...</th>\n",
       "      <th>40</th>\n",
       "      <th>41</th>\n",
       "      <th>42</th>\n",
       "      <th>43</th>\n",
       "      <th>44</th>\n",
       "      <th>45</th>\n",
       "      <th>46</th>\n",
       "      <th>47</th>\n",
       "      <th>48</th>\n",
       "      <th>49</th>\n",
       "    </tr>\n",
       "  </thead>\n",
       "  <tbody>\n",
       "    <tr>\n",
       "      <th>key</th>\n",
       "      <td>buy</td>\n",
       "      <td>make</td>\n",
       "      <td>use</td>\n",
       "      <td>work</td>\n",
       "      <td>good</td>\n",
       "      <td>read</td>\n",
       "      <td>go</td>\n",
       "      <td>think</td>\n",
       "      <td>movie</td>\n",
       "      <td>even</td>\n",
       "      <td>...</td>\n",
       "      <td>two</td>\n",
       "      <td>also</td>\n",
       "      <td>cd</td>\n",
       "      <td>love</td>\n",
       "      <td>many</td>\n",
       "      <td>seem</td>\n",
       "      <td>need</td>\n",
       "      <td>sound</td>\n",
       "      <td>game</td>\n",
       "      <td>end</td>\n",
       "    </tr>\n",
       "    <tr>\n",
       "      <th>values</th>\n",
       "      <td>583296</td>\n",
       "      <td>453177</td>\n",
       "      <td>452268</td>\n",
       "      <td>444848</td>\n",
       "      <td>438843</td>\n",
       "      <td>425272</td>\n",
       "      <td>359815</td>\n",
       "      <td>347896</td>\n",
       "      <td>325634</td>\n",
       "      <td>323960</td>\n",
       "      <td>...</td>\n",
       "      <td>176289</td>\n",
       "      <td>168181</td>\n",
       "      <td>167265</td>\n",
       "      <td>164656</td>\n",
       "      <td>159984</td>\n",
       "      <td>158214</td>\n",
       "      <td>158063</td>\n",
       "      <td>157498</td>\n",
       "      <td>156149</td>\n",
       "      <td>155815</td>\n",
       "    </tr>\n",
       "  </tbody>\n",
       "</table>\n",
       "<p>2 rows × 50 columns</p>\n",
       "</div>"
      ],
      "text/plain": [
       "            0       1       2       3       4       5       6       7   \\\n",
       "key        buy    make     use    work    good    read      go   think   \n",
       "values  583296  453177  452268  444848  438843  425272  359815  347896   \n",
       "\n",
       "            8       9   ...      40      41      42      43      44      45  \\\n",
       "key      movie    even  ...     two    also      cd    love    many    seem   \n",
       "values  325634  323960  ...  176289  168181  167265  164656  159984  158214   \n",
       "\n",
       "            46      47      48      49  \n",
       "key       need   sound    game     end  \n",
       "values  158063  157498  156149  155815  \n",
       "\n",
       "[2 rows x 50 columns]"
      ]
     },
     "execution_count": 89,
     "metadata": {},
     "output_type": "execute_result"
    }
   ],
   "source": [
    "sorted_wordfreq(wordfreq2).iloc[:50].T"
   ]
  },
  {
   "cell_type": "code",
   "execution_count": 90,
   "metadata": {},
   "outputs": [],
   "source": [
    "pos30=sorted_wordfreq(wordfreq1).iloc[:30]\n",
    "neg30=sorted_wordfreq(wordfreq2).iloc[:30]"
   ]
  },
  {
   "cell_type": "code",
   "execution_count": 91,
   "metadata": {},
   "outputs": [
    {
     "data": {
      "text/plain": [
       "<matplotlib.axes._subplots.AxesSubplot at 0x22fe1af7708>"
      ]
     },
     "execution_count": 91,
     "metadata": {},
     "output_type": "execute_result"
    },
    {
     "data": {
      "image/png": "[encoded data removed]",
      "text/plain": [
       "<Figure size 1080x1080 with 1 Axes>"
      ]
     },
     "metadata": {},
     "output_type": "display_data"
    }
   ],
   "source": [
    "sns.set(font_scale=2)\n",
    "plt.figure(figsize=(15,15))\n",
    "plt.title('Positive Reviews Word Frquency')\n",
    "sns.barplot(\"values\",\"key\", data=pos30)"
   ]
  },
  {
   "cell_type": "code",
   "execution_count": 92,
   "metadata": {},
   "outputs": [
    {
     "data": {
      "text/plain": [
       "<matplotlib.axes._subplots.AxesSubplot at 0x22fe258be08>"
      ]
     },
     "execution_count": 92,
     "metadata": {},
     "output_type": "execute_result"
    },
    {
     "data": {
      "image/png": "[encoded data removed]",
      "text/plain": [
       "<Figure size 1080x1080 with 1 Axes>"
      ]
     },
     "metadata": {},
     "output_type": "display_data"
    }
   ],
   "source": [
    "sns.set(font_scale=2)\n",
    "plt.figure(figsize=(15,15))\n",
    "plt.title('Negative Reviews Word Frquency')\n",
    "sns.barplot(\"values\",\"key\", data=neg30)"
   ]
  },
  {
   "cell_type": "markdown",
   "metadata": {},
   "source": [
    "It is hard to tell the difference between the lists when comparing the distributions. While there are some significant words for each label, many words are common and frequently used for both classes."
   ]
  },
  {
   "cell_type": "markdown",
   "metadata": {},
   "source": [
    "## Comment Size Comparison\n",
    "\n",
    "Lets check if there is any difference between the average length of comments of each label."
   ]
  },
  {
   "cell_type": "code",
   "execution_count": 95,
   "metadata": {},
   "outputs": [
    {
     "name": "stderr",
     "output_type": "stream",
     "text": [
      "C:\\Users\\fxc0401\\Anaconda3\\lib\\site-packages\\ipykernel_launcher.py:1: SettingWithCopyWarning: \n",
      "A value is trying to be set on a copy of a slice from a DataFrame.\n",
      "Try using .loc[row_indexer,col_indexer] = value instead\n",
      "\n",
      "See the caveats in the documentation: https://pandas.pydata.org/pandas-docs/stable/user_guide/indexing.html#returning-a-view-versus-a-copy\n",
      "  \"\"\"Entry point for launching an IPython kernel.\n",
      "C:\\Users\\fxc0401\\Anaconda3\\lib\\site-packages\\ipykernel_launcher.py:2: SettingWithCopyWarning: \n",
      "A value is trying to be set on a copy of a slice from a DataFrame.\n",
      "Try using .loc[row_indexer,col_indexer] = value instead\n",
      "\n",
      "See the caveats in the documentation: https://pandas.pydata.org/pandas-docs/stable/user_guide/indexing.html#returning-a-view-versus-a-copy\n",
      "  \n"
     ]
    }
   ],
   "source": [
    "pos['length']=[len(comment) for comment in pos.comment]\n",
    "neg['length']=[len(comment) for comment in neg.comment]"
   ]
  },
  {
   "cell_type": "code",
   "execution_count": 96,
   "metadata": {},
   "outputs": [
    {
     "name": "stdout",
     "output_type": "stream",
     "text": [
      "[36.963187222222224, 38.73922888888889]\n"
     ]
    }
   ],
   "source": [
    "avg_pos=np.mean(pos['length'])\n",
    "avg_neg=np.mean(neg['length'])\n",
    "print([avg_pos,avg_neg])"
   ]
  },
  {
   "cell_type": "code",
   "execution_count": 97,
   "metadata": {},
   "outputs": [
    {
     "data": {
      "text/plain": [
       "Text(0.5, 1.0, 'Comment Lenght Chart')"
      ]
     },
     "execution_count": 97,
     "metadata": {},
     "output_type": "execute_result"
    },
    {
     "data": {
      "image/png": "[encoded data removed]",
      "text/plain": [
       "<Figure size 432x288 with 1 Axes>"
      ]
     },
     "metadata": {},
     "output_type": "display_data"
    }
   ],
   "source": [
    "sns.set(font_scale=1.2)\n",
    "sns.barplot(['Positive', 'Negative'], [avg_pos, avg_neg])\n",
    "plt.ylabel('Number of Words')\n",
    "plt.title('Comment Lenght Chart')\n"
   ]
  },
  {
   "cell_type": "markdown",
   "metadata": {},
   "source": [
    "Negative comments are two words longer than the positive ones in average. This might not be a significant difference. "
   ]
  },
  {
   "cell_type": "markdown",
   "metadata": {},
   "source": [
    "## Conclusion"
   ]
  },
  {
   "cell_type": "markdown",
   "metadata": {},
   "source": [
    "- Amazon Product Reviews Dataset consists of total 4 millions Amazon customer reviews and their labels in two categories\n",
    "- The performance of the model is related to balance in between number of comments from each category. So I check them. Labels are perfectly balanced. \n",
    "- By far The word book is the most frequent word for both groups. It is safe to say that,  Book sellers would get massive amount of reviews.So, Reading and analyzing them should be super time consuming. A model like this would help tremendously. \n",
    "- Suggestion 1: Suggestion for book sellers, an automated classifier such as this machine learning model would be very useful for them.\n",
    "- I compared the comment size for each category. Suggestion 2: Customer who has negative experience tend to write longer comments. So another suggestion is longer comments might need more attention. \n"
   ]
  },
  {
   "cell_type": "markdown",
   "metadata": {},
   "source": [
    "## Future Works"
   ]
  },
  {
   "cell_type": "markdown",
   "metadata": {},
   "source": [
    "Creating Bigrams might improve the model's performence. Bigrams are word couples that usually make more sense together such as New York.\n",
    "\n",
    "***This is a work in progress.***"
   ]
  },
  {
   "cell_type": "code",
   "execution_count": null,
   "metadata": {},
   "outputs": [],
   "source": [
    "from nltk.collocations import BigramAssocMeasures, BigramCollocationFinder"
   ]
  },
  {
   "cell_type": "code",
   "execution_count": null,
   "metadata": {},
   "outputs": [],
   "source": [
    "bigram_measures = nltk.collocations.BigramAssocMeasures()\n",
    "finder = BigramCollocationFinder.from_words(train)\n",
    "scored = finder.score_ngrams(bigram_measures.raw_freq)\n",
    "scored[:50]"
   ]
  },
  {
   "cell_type": "code",
   "execution_count": null,
   "metadata": {},
   "outputs": [],
   "source": []
  },
  {
   "cell_type": "code",
   "execution_count": null,
   "metadata": {},
   "outputs": [],
   "source": []
  }
 ],
 "metadata": {
  "kernelspec": {
   "display_name": "Python 3",
   "language": "python",
   "name": "python3"
  },
  "language_info": {
   "codemirror_mode": {
    "name": "ipython",
    "version": 3
   },
   "file_extension": ".py",
   "mimetype": "text/x-python",
   "name": "python",
   "nbconvert_exporter": "python",
   "pygments_lexer": "ipython3",
   "version": "3.7.6"
  }
 },
 "nbformat": 4,
 "nbformat_minor": 2
}
