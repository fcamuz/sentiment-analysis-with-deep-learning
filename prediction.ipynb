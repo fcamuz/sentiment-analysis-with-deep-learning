{
 "cells": [
  {
   "cell_type": "markdown",
   "metadata": {},
   "source": [
    "# Sentiment Analysis with Deep Learning\n",
    "\n",
    "# Phase 3- Prediction\n",
    "\n",
    "This notebook consists the functions and code for scraping comments from Amazon website, pre-prosessing them and prediction with the model.  \n",
    "\n",
    "### CHRISP-DM phase\n",
    "\n",
    "Deployment phase for CRISP-DM can be found in this noteboook.\n",
    "\n",
    "#### 6.Deployment\n",
    "\n",
    "Generally this will mean deploying a code representation of the model into an operating system to score or categorize new unseen data as it arises and to create a mechanism for the use of that new information in the solution of the original business problem. Importantly, the code representation must also include all the data prep steps leading up to modeling so that the model will treat new raw data in the same manner as during model development.\n",
    "\n",
    "### Table of Contents\n",
    "\n",
    "- 1. Import Libraries\n",
    "- 2. Define Functions \n",
    "- 3. Load-Read-Extract\n",
    "- 4. Pre-Processig\n",
    "- 5. Tokenizing-Sequenzing-Padding\n",
    "- 6. Exploratory Data Analysis (EDA)\n"
   ]
  },
  {
   "cell_type": "markdown",
   "metadata": {},
   "source": [
    "## 1. Import Libraries"
   ]
  },
  {
   "cell_type": "code",
   "execution_count": 1,
   "metadata": {},
   "outputs": [
    {
     "name": "stderr",
     "output_type": "stream",
     "text": [
      "Using TensorFlow backend.\n"
     ]
    }
   ],
   "source": [
    "\n",
    "import pandas as pd \n",
    "import numpy as np\n",
    "import string\n",
    "from nltk.corpus import stopwords\n",
    "stop = stopwords.words('english')\n",
    "from sklearn.metrics import accuracy_score\n",
    "np.random.seed(0)\n",
    "import pickle\n",
    "\n",
    "from keras.models import Model, Sequential, Input\n",
    "from keras.models import load_model\n",
    "from keras.preprocessing import text, sequence\n",
    "from keras.preprocessing.text import Tokenizer\n",
    "from keras.preprocessing.sequence import pad_sequences\n",
    "from keras.preprocessing import text, sequence\n",
    "\n",
    "import urllib.request\n",
    "import urllib.parse\n",
    "import urllib.error\n",
    "from bs4 import BeautifulSoup\n",
    "import ssl\n",
    "import joblib"
   ]
  },
  {
   "cell_type": "markdown",
   "metadata": {},
   "source": [
    "### Load the trained model"
   ]
  },
  {
   "cell_type": "code",
   "execution_count": 25,
   "metadata": {},
   "outputs": [
    {
     "name": "stderr",
     "output_type": "stream",
     "text": [
      "/Users/kaan/anaconda3/lib/python3.7/site-packages/tensorflow_core/python/framework/indexed_slices.py:424: UserWarning: Converting sparse IndexedSlices to a dense Tensor of unknown shape. This may consume a large amount of memory.\n",
      "  \"Converting sparse IndexedSlices to a dense Tensor of unknown shape. \"\n"
     ]
    }
   ],
   "source": [
    "#model = load_model('cnn_2cnv.h5')\n",
    "\n",
    "model = joblib.load(\"models/joblib_RL_Model.pkl\")"
   ]
  },
  {
   "cell_type": "code",
   "execution_count": 26,
   "metadata": {},
   "outputs": [
    {
     "name": "stdout",
     "output_type": "stream",
     "text": [
      "Model: \"sequential_1\"\n",
      "_________________________________________________________________\n",
      "Layer (type)                 Output Shape              Param #   \n",
      "=================================================================\n",
      "embedding_1 (Embedding)      (None, 128, 64)           524288    \n",
      "_________________________________________________________________\n",
      "spatial_dropout1d_1 (Spatial (None, 128, 64)           0         \n",
      "_________________________________________________________________\n",
      "conv1d_1 (Conv1D)            (None, 128, 100)          25700     \n",
      "_________________________________________________________________\n",
      "batch_normalization_1 (Batch (None, 128, 100)          400       \n",
      "_________________________________________________________________\n",
      "conv1d_2 (Conv1D)            (None, 128, 100)          40100     \n",
      "_________________________________________________________________\n",
      "batch_normalization_2 (Batch (None, 128, 100)          400       \n",
      "_________________________________________________________________\n",
      "global_max_pooling1d_1 (Glob (None, 100)               0         \n",
      "_________________________________________________________________\n",
      "dropout_1 (Dropout)          (None, 100)               0         \n",
      "_________________________________________________________________\n",
      "dense_1 (Dense)              (None, 50)                5050      \n",
      "_________________________________________________________________\n",
      "dense_2 (Dense)              (None, 1)                 51        \n",
      "=================================================================\n",
      "Total params: 595,989\n",
      "Trainable params: 595,589\n",
      "Non-trainable params: 400\n",
      "_________________________________________________________________\n"
     ]
    }
   ],
   "source": [
    "model.summary()"
   ]
  },
  {
   "cell_type": "markdown",
   "metadata": {},
   "source": [
    "### Load the tokenizer\n",
    "\n",
    "Open the saved tokenizer with pickle. This tokenizer was trained in the pre-prosessing notebook and saved with pickle. We need this for creating the pipe line for the new data we will scrape from Amazon website."
   ]
  },
  {
   "cell_type": "code",
   "execution_count": 27,
   "metadata": {},
   "outputs": [],
   "source": [
    "with open('tokenizer.pickle', 'rb') as handle:\n",
    "    tokenizer=pickle.load(handle)"
   ]
  },
  {
   "cell_type": "markdown",
   "metadata": {},
   "source": [
    "### 2. Functions"
   ]
  },
  {
   "cell_type": "code",
   "execution_count": 28,
   "metadata": {},
   "outputs": [],
   "source": [
    "\n",
    "def scrape_reviews ():\n",
    "    # For ignoring SSL certificate errors\n",
    "    ctx = ssl.create_default_context()\n",
    "    ctx.check_hostname = False\n",
    "    ctx.verify_mode = ssl.CERT_NONE\n",
    "    url=input(\"Enter Amazon Product Url- \")\n",
    "    html_page = urllib.request.urlopen(url) #Make a get request to retrieve the page\n",
    "    soup = BeautifulSoup(html_page, 'html.parser')\n",
    "\n",
    "    reviews=[]\n",
    "    ratings=[]\n",
    "\n",
    "    review_row=soup.findAll('div', attrs={'data-hook': 'review'})\n",
    "    for row in review_row:\n",
    "        ratings.append(row.find('span',  attrs={'class':'a-icon-alt'}).text.strip()[0])\n",
    "        reviews.append(row.find('div', attrs={'data-hook': 'review-collapsed'}).text.strip())\n",
    "    \n",
    "    print('There are {} reviews in for this product'.format(len(reviews)) )\n",
    "    print(reviews)\n",
    "    \n",
    "    return reviews, ratings\n",
    "\n",
    "def punctuationRemover(p):\n",
    "    '''\n",
    "    Input: Takes a string. You may have to use str() to force it. \n",
    "    Removes all punctuation.\n",
    "    Output: Returns a string.\n",
    "    '''\n",
    "    punctuations = '''!()-[]{};:'\"\\,<>./?@#$%^&*_~1234567890''' \n",
    "    no_punctuations = ' '\n",
    "\n",
    "    for words in p: # You may not have to loop this high\n",
    "        for char in words:\n",
    "            if char in punctuations:\n",
    "                no_punctuations = no_punctuations + ' '\n",
    "            if char not in punctuations:\n",
    "                no_punctuations = no_punctuations + char\n",
    "        \n",
    "    return(no_punctuations)\n",
    "\n",
    "def no_stopword (p):\n",
    "    token= ' '.join([word.lower() for word in p.split() if word not in (stop)])\n",
    "    return token\n",
    "\n",
    "\n",
    "    "
   ]
  },
  {
   "cell_type": "markdown",
   "metadata": {},
   "source": [
    "## 3. Scraping Comments \n",
    "\n",
    "In this part we will scrape the comments from the website for a product. We will also scrape the rating to evaluate the model's prediction fro unseen data."
   ]
  },
  {
   "cell_type": "code",
   "execution_count": 39,
   "metadata": {},
   "outputs": [
    {
     "name": "stdout",
     "output_type": "stream",
     "text": [
      "Enter Amazon Product Url- https://www.amazon.com/Internets-Best-Decorative-Nightstand-Enclosure/dp/B01M01DVR0/ref=pd_sim_199_5/138-6621365-9457105?_encoding=UTF8&pd_rd_i=B01M01DVR0&pd_rd_r=0be292b7-7baf-41bb-aa84-f1383c8af59f&pd_rd_w=PwcWV&pd_rd_wg=gxj8M&pf_rd_p=04d27813-a1f2-4e7b-a32b-b5ab374ce3f9&pf_rd_r=QWS2HDND8660HQTAYERQ&psc=1&refRID=QWS2HDND8660HQTAYERQ\n",
      "There are 8 reviews in for this product\n",
      "[\"This is much sturdier than I anticipated. I had no problems putting it together and it looks great. (Im a 48 year old woman with back problems and no engineering degree.) I purchased 3 different cat houses on Amazon for hiding litter boxes around my home. This is beautiful and no one notices what is hiding behind the door.  I put it together and placed the litter box inside, then I left the door open for a couple of days so that the cats got used to it and could check it out. Then, I shut the door and they seemed to never notice the change. Easy to sweep out if needed. I purchase a litter box with higher sides to keep the kitties from spraying the inner walls. I just slide it out, scoop and slide it back in. Easy peasy.  I placed it just under a window and have a decorative tree next to it. I placed a decorative cushion on top and the cats love to snuggle on top of it and watch 'cat TV' out the window.\", 'This really looks good and I was really happy , at first, when I muddled through the \"figure it out yourself\" directions. It went together nicely. Everything fit. Problem is when you put a litter box in you realize that the cats now have only half the opening to squeeze through over the side of the box. 3 of my 4 cats (I know...don\\'t judge me) can\\'t fit through, and the wary little female who could, won\\'t go near it.  Might have to try it as a nice place for a cat bed instead. It needs to be taller with a bigger opening to work with a litter box.', 'Easy enough to assemble; use a magnifying glass to see the diagrams so you can differentiate screws from dowels in the diagrams.  It is very sturdy once everything is tightened.  I did not glue the dowels as mentioned by others so that I can disassemble it in the future if needed.  I attached the litter scoop, a small dust pan/brush, and placed a roll of poop bags inside of the enclosure with room to spare.The litter box that I used was a size \\'large\\' 18.5\"L x 15\"W x 4 1/2\"H (in front) Boots & Barkley (Target) since the front does not sit higher than the door opening.  Other litter boxes were too high and it decreased the amount of room in the door opening.  I have included a photo of my 15# cat exiting the house.  The door opening is 7 1/2\" wide by 8 1/2\" high and is 6\" up from the floor.  The enclosure sits flush to the floor, so the litter does not scatter underneath it.To clean the litter box, just open the door and slide the box out and scoop.  I use my small brush & dust pan to sweep out the interior.  Once cleaned, slide the box back in and close the door.I would have given this a 5 star, but the door can be higher to accommodate a taller litter box.I definitely recommend this for anyone looking to make the unsightly litter box less obvious.', 'The opening for the cat entrance is to low. The liter box that was recommended, which I purchased, sits almost halfway up the entrance. I have three cats and only one can squeeze through the space available. I suggest the cutout needs to be raised atleast two inches to allow cats to enter. I am very disappointed.', 'I am really happy I decided to purchase this. However, I warn you that if you do not buy a litter box with high side and back shields, you will be very very unhappy. I purchased a regular cat litter box and found that my cat was urinating close to the sides of the litter box. Most of the urine was not actually making it into the litter box. The smell was terrible and it actually started warping the bottom of the cat house. However, I purchased a cat litter box with the high side and back walls off of Amazon for around $6.50 and now I am very pleased. This is so much better than having an open litter box lying around and a lot of the smell is contained. My cat is also 17 years old and had been frequently going #2 outside the litter box. This has completely stopped that.', \"A standard size litter box barely fits, and only by putting its long side front to back which allows litter to escape through the entry hole. The hardware supplied to assemble the pieces isn't appropriately sized. Started to fall apart in the transit from assembly in living room to placement in bathroom. Reassembled, was falling apart again within a week. Would not recommend.\", 'This cat litter box house was just as described!! The color is a chocolate espresso color. The knob is brushed nickel giving it a neutral modern fit look. The assembly was very easy abd straight forward. It took less than 10 minutes. We purchased this in hopes to kee the litter dust better contained. The house could be left without anything on top and look good. It would also look nice with decorative items or a plant on top. If your cat has never used a contained litter box I recommend starting with the door fully open to help them get acclimated and avoid getting spooked. Then after a week close the door and see how it goes. Our cat has made the transition without fuss. I would recommend this product for anyone looking to conceal their litter box or simply looking to cut down on litter dust. It is worth the price and came without a scratch. Being that it is an espresso color you would easily be able to use a furniture pen for any touch upsNeeded over time.', 'This product is really poor quality. We will need to use super-glue or something to make the screws stay in place. My husband has put many furniture pieces together and this one is falling apart when I am moving it. In addition to poor manufacturing, the opening is too low to function as a cat litter box. The litter box with lower front still covers almost half of the opening. The manufacturer should use this item as a litter box for actual cats to test it and see what is wrong. The opening needs to be at least 2 inches higher.']\n"
     ]
    }
   ],
   "source": [
    "review_list, ratings = scrape_reviews()\n",
    "\n"
   ]
  },
  {
   "cell_type": "code",
   "execution_count": 40,
   "metadata": {},
   "outputs": [
    {
     "data": {
      "text/plain": [
       "['5', '3', '4', '1', '4', '1', '5', '1']"
      ]
     },
     "execution_count": 40,
     "metadata": {},
     "output_type": "execute_result"
    }
   ],
   "source": [
    "ratings"
   ]
  },
  {
   "cell_type": "markdown",
   "metadata": {},
   "source": [
    "### Pre-process the comment list"
   ]
  },
  {
   "cell_type": "markdown",
   "metadata": {},
   "source": [
    "Remove all stopwords and punctuation from the comment by using the pre-processing functions. Also split in to words list. "
   ]
  },
  {
   "cell_type": "code",
   "execution_count": 48,
   "metadata": {},
   "outputs": [],
   "source": [
    "\n",
    "review_list_processed=[no_stopword(punctuationRemover(p)) for p in review_list]\n"
   ]
  },
  {
   "cell_type": "code",
   "execution_count": 42,
   "metadata": {},
   "outputs": [],
   "source": [
    "test=review_list_processed"
   ]
  },
  {
   "cell_type": "code",
   "execution_count": 43,
   "metadata": {},
   "outputs": [],
   "source": [
    "test_vektor=tokenizer.texts_to_sequences(test)\n",
    "test_vector=sequence.pad_sequences(test_vektor, maxlen=128)"
   ]
  },
  {
   "cell_type": "code",
   "execution_count": 44,
   "metadata": {},
   "outputs": [
    {
     "data": {
      "text/plain": [
       "array([[   0,    0,    0, ...,  887,  301, 1629],\n",
       "       [   0,    0,    0, ...,   23, 2583,  216],\n",
       "       [   0,    0,    0, ...,  216,  175, 1052],\n",
       "       ...,\n",
       "       [   0,    0,    0, ...,  398,    6,   56],\n",
       "       [   0,    0,    0, ..., 2252,  858,    9],\n",
       "       [   0,    0,    0, ...,  207, 1993, 1219]], dtype=int32)"
      ]
     },
     "execution_count": 44,
     "metadata": {},
     "output_type": "execute_result"
    }
   ],
   "source": [
    "test_vector"
   ]
  },
  {
   "cell_type": "code",
   "execution_count": null,
   "metadata": {},
   "outputs": [],
   "source": []
  },
  {
   "cell_type": "code",
   "execution_count": 45,
   "metadata": {},
   "outputs": [],
   "source": [
    "prediction=model.predict([test_vector])"
   ]
  },
  {
   "cell_type": "code",
   "execution_count": 46,
   "metadata": {},
   "outputs": [
    {
     "name": "stdout",
     "output_type": "stream",
     "text": [
      "[[0.82825875]\n",
      " [0.4909972 ]\n",
      " [0.9271606 ]\n",
      " [0.02025419]\n",
      " [0.03693619]\n",
      " [0.8342918 ]\n",
      " [0.8935666 ]\n",
      " [0.00141972]]\n",
      "[1.0, 0.0, 1.0, 0.0, 0.0, 1.0, 1.0, 0.0]\n"
     ]
    }
   ],
   "source": [
    "print(model.predict([test_vector]))\n",
    "print([round(prediction[0][0]) for prediction[0][0] in prediction])"
   ]
  },
  {
   "cell_type": "code",
   "execution_count": null,
   "metadata": {},
   "outputs": [],
   "source": [
    "\n",
    "    \n"
   ]
  },
  {
   "cell_type": "code",
   "execution_count": 47,
   "metadata": {},
   "outputs": [
    {
     "data": {
      "text/plain": [
       "['5', '3', '4', '1', '4', '1', '5', '1']"
      ]
     },
     "execution_count": 47,
     "metadata": {},
     "output_type": "execute_result"
    }
   ],
   "source": [
    "ratings"
   ]
  },
  {
   "cell_type": "code",
   "execution_count": null,
   "metadata": {},
   "outputs": [],
   "source": []
  },
  {
   "cell_type": "code",
   "execution_count": null,
   "metadata": {},
   "outputs": [],
   "source": []
  }
 ],
 "metadata": {
  "kernelspec": {
   "display_name": "Python 3",
   "language": "python",
   "name": "python3"
  },
  "language_info": {
   "codemirror_mode": {
    "name": "ipython",
    "version": 3
   },
   "file_extension": ".py",
   "mimetype": "text/x-python",
   "name": "python",
   "nbconvert_exporter": "python",
   "pygments_lexer": "ipython3",
   "version": "3.7.3"
  }
 },
 "nbformat": 4,
 "nbformat_minor": 2
}
